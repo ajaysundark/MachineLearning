{
 "cells": [
  {
   "cell_type": "code",
   "execution_count": 6,
   "metadata": {
    "collapsed": true
   },
   "outputs": [],
   "source": [
    "import numpy as np\n",
    "import pandas as pd\n",
    "import random\n",
    "import os.path\n",
    "import math\n",
    "from scipy.sparse.linalg import eigs\n",
    "\n",
    "from collections import defaultdict\n",
    "import matplotlib.pyplot as plt"
   ]
  },
  {
   "cell_type": "code",
   "execution_count": 11,
   "metadata": {
    "collapsed": true
   },
   "outputs": [],
   "source": [
    "def n_cross_val(A, n):\n",
    "    for i in range(0, len(A), n):\n",
    "        yield (A[:i]+A[i+n:], A[i:i + n])"
   ]
  },
  {
   "cell_type": "code",
   "execution_count": 24,
   "metadata": {
    "collapsed": true
   },
   "outputs": [],
   "source": [
    "class FLDA:\n",
    "    def __init__(self, X, y):\n",
    "        self.X = X\n",
    "        self.y = y\n",
    "        self.nObs, self.nFeatures = X.shape\n",
    "        assert(self.nObs==y.shape[0])\n",
    "        self.allclasses = np.unique(y)\n",
    "        self.nclass = len(self.allclasses)\n",
    "        \n",
    "    def build(self):\n",
    "        self.Xeach = self._split_by_class(self.X, self.y)\n",
    "        self._compute_all_mean()\n",
    "        Sb,Sw = self._calculate_variances()\n",
    "        evals,evecs = eigs( np.dot(np.linalg.inv(Sw), Sb), which='LM' )\n",
    "        print(\"Eigen values are\", sorted(evals))\n",
    "        return evecs\n",
    "    \n",
    "    def _calculate_variances(self):\n",
    "        sb = np.zeros((self.nFeatures, self.nFeatures))\n",
    "        sw = np.zeros((self.nFeatures, self.nFeatures))\n",
    "        for c in self.allclasses:\n",
    "            sb += self.Xeach[c].shape[0] * np.outer(self.mueach[c] - self.mu, self.mueach[c] - self.mu)\n",
    "            sw += self.Xeach[c].shape[0] * np.cov(self.Xeach[c], rowvar=0, bias=1)\n",
    "        sw += np.identity(self.nFeatures)\n",
    "        return (sb,sw)\n",
    "            \n",
    "    def _split_by_class(self, X, y):\n",
    "        d={}\n",
    "        for c in self.allclasses:\n",
    "            Xc=X[np.where(y==c)[0],:]\n",
    "            d[c]=Xc\n",
    "        return d\n",
    "    \n",
    "    def _compute_all_mean(self):\n",
    "        self.mueach={c:np.mean(self.Xeach[c], axis=0).reshape(-1,self.nFeatures) for c in self.allclasses}\n",
    "        self.mu=np.mean(self.X, axis=0).reshape([-1,self.nFeatures])\n",
    "    \n",
    "    def test_size(self):\n",
    "        for e in self.mueach.values():\n",
    "            print(e)"
   ]
  },
  {
   "cell_type": "code",
   "execution_count": 25,
   "metadata": {
    "collapsed": true
   },
   "outputs": [],
   "source": [
    "def fishers_discriminants(filename,num_crossval):\n",
    "    assert os.path.isfile(filename) and os.access(filename, os.R_OK)\n",
    "    df=pd.read_csv(filename, sep=',', header = None)\n",
    "    \n",
    "    data = df.as_matrix()\n",
    "    X=data[:, :-1]\n",
    "    y=data[:, -1]\n",
    "    del df, data\n",
    "    \n",
    "    X=X+np.random.normal(0, 0.0001, X.shape) #to prevent numerical problem\n",
    "    \n",
    "    if len(np.unique(y))>15:\n",
    "        # if the target values are more than some reasonable no (15), we take that as binary classifier\n",
    "        b = np.percentile(y, 50)\n",
    "        f=np.vectorize(lambda x: 0 if x<b else 1)\n",
    "        y=f(y)\n",
    "        assert(X.shape[0]==y.shape[0])\n",
    "        y=np.reshape(y, [X.shape[0], 1])\n",
    "       \n",
    "    \n",
    "    indices = list(range(len(y)))\n",
    "    random.shuffle(indices)\n",
    "\n",
    "\n",
    "    for (train, test) in n_cross_val(indices, len(indices)//num_crossval):\n",
    "        Y_train=y[train]\n",
    "        Y_test=y[test]\n",
    "        X_train=X[train]\n",
    "        X_test=X[test]\n",
    "    \n",
    "        #xdf = pd.DataFrame(X_test)\n",
    "        #ydf = pd.DataFrame(Y_test)\n",
    "        \n",
    "        #print(Y_test.shape)\n",
    "        #print(X_train.shape)\n",
    "        #print(xdf.head())\n",
    "        \n",
    "        W=FLDA(X_train,Y_train).build()\n",
    "        #Z=np.zeros(X_train.shape[0])\n",
    "        #Z=X_train.dot(W)\n",
    "        #print(Z.shape)\n",
    "        #z0=np.mean(Z, axis=0)\n",
    "        #print(z0)\n",
    "        \n",
    "        #colors=['blue','red']\n",
    "        #plt.hist(Z, bins=20, histtype = 'bar', facecolor = 'blue')\n",
    "        #plt.ylabel(\"Predictions\")\n",
    "        #plt.xlabel(\"Bin Number\")\n",
    "        #plt.title(\"Histogram\")\n",
    "        #plt.show()"
   ]
  },
  {
   "cell_type": "code",
   "execution_count": 23,
   "metadata": {},
   "outputs": [
    {
     "name": "stdout",
     "output_type": "stream",
     "text": [
      "(6,)\n",
      "Eigen values are [(-1.2557234341562288e-15+0j), (4.2104025807815999e-16-3.52817483406569e-16j), (4.2104025807815999e-16+3.52817483406569e-16j), (5.8704944986420395e-16+0j), (1.1266626138849171e-15+0j), (1.2958443590881523+0j)]\n",
      "(6,)\n",
      "Eigen values are [(-7.4370278345536906e-16-3.7395187940049144e-17j), (-7.4370278345536906e-16+3.7395187940049144e-17j), (6.6392722041027791e-16-6.1143243675156488e-16j), (6.6392722041027791e-16+6.1143243675156488e-16j), (1.3322676295501878e-14+0j), (1.2492059444748849+0j)]\n",
      "(6,)\n",
      "Eigen values are [(-1.5631940186722204e-13+0j), (-2.3390483247905029e-15+0j), (-8.4783583330801242e-16-2.1740180446290785e-15j), (-8.4783583330801242e-16+2.1740180446290785e-15j), (3.1797596374943351e-15+0j), (1.3196228953188864+0j)]\n",
      "(6,)\n",
      "Eigen values are [(-8.8817841970012523e-15+0j), (-2.1675124488268036e-15+0j), (-1.3344643366556613e-15+0j), (1.2814287676408682e-16-8.8752059008462975e-16j), (1.2814287676408682e-16+8.8752059008462975e-16j), (1.2584118680091372+0j)]\n",
      "(6,)\n",
      "Eigen values are [(-1.4210854715202004e-14+0j), (-1.0468301753266232e-15-5.0753880498625891e-16j), (-1.0468301753266232e-15+5.0753880498625891e-16j), (8.4922217159737216e-16+0j), (1.4911546954368928e-15+0j), (1.3569124002859674+0j)]\n",
      "(6,)\n",
      "Eigen values are [(-1.3479980613865794e-15+0j), (-8.5288036821760833e-16-1.0002816025505315e-15j), (-8.5288036821760833e-16+1.0002816025505315e-15j), (1.1228453733317021e-15+0j), (1.5743361601103184e-15+0j), (1.2617863446257758+0j)]\n",
      "(6,)\n",
      "Eigen values are [(-8.9192274358025923e-16+0j), (-7.7083098768790298e-16+0j), (-1.0692717523722328e-17-4.9072451511733901e-16j), (-1.0692717523722328e-17+4.9072451511733901e-16j), (3.9265623073228018e-15+0j), (1.2843814488428853+0j)]\n",
      "(6,)\n",
      "Eigen values are [(-1.5986789061917434e-15+0j), (-1.2206497984205678e-15-4.2380948374359245e-16j), (-1.2206497984205678e-15+4.2380948374359245e-16j), (4.1031392217150317e-15+0j), (1.0658141036401503e-14+0j), (1.3047354698059301+0j)]\n",
      "(6,)\n",
      "Eigen values are [(-2.9592793037414584e-15+0j), (-1.2961743682081947e-15+0j), (-2.414669135246799e-16-1.1874834375961829e-15j), (-2.414669135246799e-16+1.1874834375961829e-15j), (1.8441542835951308e-15+0j), (1.3940036719010251+0j)]\n",
      "(6,)\n",
      "Eigen values are [(-3.6111788895737578e-15-1.3547631332998994e-15j), (-3.6111788895737578e-15+1.3547631332998994e-15j), (-2.2724334903319885e-15+0j), (1.3943971501733144e-15-1.3783328847817125e-15j), (1.3943971501733144e-15+1.3783328847817125e-15j), (1.3520627064939319+0j)]\n",
      "(6,)\n",
      "Eigen values are [(-1.1021433405974584e-15+0j), (-5.766382430678745e-16-3.6711115656674891e-16j), (-5.766382430678745e-16+3.6711115656674891e-16j), (6.523494903114999e-16+0j), (1.149513119924168e-15+0j), (1.2931885869157762+0j)]\n"
     ]
    }
   ],
   "source": [
    "fishers_discriminants('boston.csv',10)"
   ]
  },
  {
   "cell_type": "code",
   "execution_count": null,
   "metadata": {
    "collapsed": true
   },
   "outputs": [],
   "source": []
  },
  {
   "cell_type": "code",
   "execution_count": null,
   "metadata": {
    "collapsed": true
   },
   "outputs": [],
   "source": []
  }
 ],
 "metadata": {
  "kernelspec": {
   "display_name": "Python 3",
   "language": "python",
   "name": "python3"
  },
  "language_info": {
   "codemirror_mode": {
    "name": "ipython",
    "version": 3
   },
   "file_extension": ".py",
   "mimetype": "text/x-python",
   "name": "python",
   "nbconvert_exporter": "python",
   "pygments_lexer": "ipython3",
   "version": "3.6.1"
  }
 },
 "nbformat": 4,
 "nbformat_minor": 2
}
