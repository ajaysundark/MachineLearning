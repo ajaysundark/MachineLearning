{
 "cells": [
  {
   "cell_type": "code",
   "execution_count": 177,
   "metadata": {
    "collapsed": true
   },
   "outputs": [],
   "source": [
    "import numpy as np\n",
    "import pandas as pd\n",
    "import random\n",
    "import os.path\n",
    "import math\n",
    "\n",
    "from scipy.stats import multivariate_normal as binormal\n",
    "from scipy.sparse.linalg import eigs\n",
    "\n",
    "import matplotlib.pyplot as plt"
   ]
  },
  {
   "cell_type": "code",
   "execution_count": 178,
   "metadata": {
    "collapsed": true
   },
   "outputs": [],
   "source": [
    "def n_cross_val(A, n):\n",
    "    for i in range(0, len(A), n):\n",
    "        yield (A[:i]+A[i+n:], A[i:i + n])"
   ]
  },
  {
   "cell_type": "code",
   "execution_count": 179,
   "metadata": {
    "collapsed": true
   },
   "outputs": [],
   "source": [
    "class FLDA:\n",
    "    def __init__(self,X,y):\n",
    "        self.X = X\n",
    "        self.y = y\n",
    "        self.obs, self.n = X.shape\n",
    "        assert(self.obs==y.shape[0])\n",
    "        self.classes=np.unique(y)\n",
    "        self.nclass=len(self.classes)\n",
    "    \n",
    "    def build(self):\n",
    "        self.Xeach = self._split_by_class(self.X, self.y)\n",
    "        self._compute_all_mean()\n",
    "        Sw,Sb=self._calculate_scatter()\n",
    "        # print(\"Sw.shape:\", Sw.shape)\n",
    "        # print(\"Sb.shape:\", Sb.shape)\n",
    "        evals,evecs= eigs( np.dot(np.linalg.inv(Sw), Sb), k=2, which='LM' )\n",
    "        return np.dot(self.X, evecs)\n",
    "            \n",
    "    def _calculate_scatter(self):\n",
    "        # within class scatter\n",
    "        Sw = np.zeros((self.n, self.n))\n",
    "        diff = self.Xeach[0] - np.array(list(self.mueach[0])*(self.Xeach[0].shape[0])).reshape(self.Xeach[0].shape)\n",
    "        for i in range(1, self.nclass):\n",
    "            c=self.classes[i]\n",
    "            diff=np.vstack( (diff,\n",
    "                        self.Xeach[c] - np.array(list(self.mueach[c])*(self.Xeach[c].shape[0])).reshape(self.Xeach[c].shape)) )\n",
    "        diff=np.matrix(diff)\n",
    "        \n",
    "        assert(self.obs==diff.shape[0]), \"Dimensions mismatch\"\n",
    "        for e in range(self.obs):\n",
    "            Sw += np.dot(diff[e,:].T, diff[e,:])\n",
    "            \n",
    "        # between class scatter\n",
    "        Sb = np.zeros((self.n, self.n))\n",
    "        for c in self.classes:\n",
    "            deltamu=self.mueach[c]-self.mu\n",
    "            Sb += self.Xeach[c].shape[0] * np.dot(deltamu, deltamu.T)\n",
    "        return (Sw,Sb)\n",
    "        \n",
    "    def _split_by_class(self, X, y):\n",
    "        return {c:X[np.where(y==c)[0],:] for c in self.classes}\n",
    "    \n",
    "    def _compute_all_mean(self):\n",
    "        self.mueach={c:np.mean(self.Xeach[c], axis=0).reshape(self.n,-1) for c in self.classes}\n",
    "        self.mu=np.mean(self.X, axis=0).reshape([self.n,-1])\n",
    "    "
   ]
  },
  {
   "cell_type": "code",
   "execution_count": 180,
   "metadata": {
    "collapsed": true
   },
   "outputs": [],
   "source": [
    "class MultiVariateGaussian:\n",
    "    def __init__(self, X, y):\n",
    "        self.X = X+np.random.normal(0,0.001, (X.shape))\n",
    "        self.y = y\n",
    "        self.obs, self.n = X.shape\n",
    "        assert(self.obs==y.shape[0])\n",
    "        self.classes=np.unique(y)\n",
    "        self.nclass=len(self.classes)\n",
    "        \n",
    "    def _predict_score(self, Xnew):\n",
    "        posterior = np.zeros((Xnew.shape[0], self.nclass))\n",
    "        for i,c in enumerate(self.classes):\n",
    "            m=self.mu[c].flatten()\n",
    "            sigma=self.sigma[c]\n",
    "            posterior[:,i]=binormal.logpdf(Xnew, m, sigma)\n",
    "        logprior = [np.log(p) for p in self.prior]\n",
    "        posterior += logprior\n",
    "        return posterior\n",
    "\n",
    "    def _predict_class(self, score):\n",
    "        pred = np.argmax(score, axis=1)\n",
    "        return np.array([self.classes[i] for i in pred])\n",
    "        \n",
    "    def predict(self, Xt):\n",
    "        score = self._predict_score(Xt)\n",
    "        return self._predict_class(score)\n",
    "        \n",
    "    def calc_error(self, ynew, target):\n",
    "        correctness = np.array([yn == y for (yn,y) in zip(ynew, target)])\n",
    "        return 1 - (np.sum(correctness) / target.size)\n",
    "    \n",
    "    def validate(self, Xt, yt):\n",
    "        Xt += np.random.normal(0,0.001, (Xt.shape))\n",
    "        mypredictions=self.predict(Xt)\n",
    "        return self.calc_error(mypredictions, yt)\n",
    "        \n",
    "    def _train(self):\n",
    "        self._compute_mean_and_sigma()\n",
    "        self.prior = [np.sum(self.y == c) / self.y.size for c in self.classes]\n",
    "    \n",
    "    def build(self):\n",
    "        self.Xeach=self._split_by_class(self.X, self.y)\n",
    "        self._train()\n",
    "        return self\n",
    "        \n",
    "    def _split_by_class(self, X, y):\n",
    "        return {c:X[np.where(y==c)[0],:] for c in self.classes}\n",
    "    \n",
    "    def _compute_mean_and_sigma(self):\n",
    "        self.mu={c:np.mean(self.Xeach[c], axis=0).reshape(self.n,-1) for c in self.classes}\n",
    "        self.sigma={c:np.cov(self.Xeach[c],bias=1, rowvar=0) for c in self.classes}\n",
    "    "
   ]
  },
  {
   "cell_type": "code",
   "execution_count": 195,
   "metadata": {
    "collapsed": true
   },
   "outputs": [],
   "source": [
    "def LDA2dGaussGM(filename, num_crossval):\n",
    "    assert os.path.isfile(filename) and os.access(filename, os.R_OK)\n",
    "    df=pd.read_csv(filename, sep=',', header = None)\n",
    "    \n",
    "    data = df.as_matrix()\n",
    "    X=data[:, :-1]\n",
    "    y=data[:, -1]\n",
    "    del df, data\n",
    "    \n",
    "    X=X+np.random.normal(0, 0.0001, X.shape) #to prevent numerical problem\n",
    "    \n",
    "    if len(np.unique(y))>15:\n",
    "        # if the target values are more than some reasonable no (15), we take that as binary classifier\n",
    "        b = np.percentile(y, 50)\n",
    "        f=np.vectorize(lambda x: 0 if x<b else 1)\n",
    "        y=f(y)\n",
    "        assert(X.shape[0]==y.shape[0])\n",
    "        y=np.reshape(y, [X.shape[0], 1])\n",
    "       \n",
    "    # project into Rx2 dimensions\n",
    "    W=FLDA(X,y).build()\n",
    "    #print(W.shape)\n",
    "    \n",
    "    indices = list(range(len(y)))\n",
    "    random.shuffle(indices)\n",
    "    \n",
    "    E=[]\n",
    "    fold=1\n",
    "    for (train, test) in n_cross_val(indices, len(indices)//num_crossval):\n",
    "        Y_train, Y_test, X_train, X_test = y[train], y[test], X[train], X[test]\n",
    "        \n",
    "        # Bi-variate Gaussian classifier\n",
    "        gaussian=MultiVariateGaussian(X_train,Y_train).build()\n",
    "        ee=gaussian.validate(X_test, Y_test)\n",
    "        print(\"Test error-rate for fold-%s:\"%fold, ee)\n",
    "        fold+=1\n",
    "        E.append(ee)\n",
    "    errmu = np.mean(E)*100\n",
    "    errsigma = np.std(E)\n",
    "    \n",
    "    print()\n",
    "    print(\"Mean test-error %0.2f percent\"%errmu)\n",
    "    print(\"Std test-error %0.2f percent\"%errsigma)\n",
    "        "
   ]
  },
  {
   "cell_type": "code",
   "execution_count": 196,
   "metadata": {},
   "outputs": [
    {
     "name": "stdout",
     "output_type": "stream",
     "text": [
      "Test error-rate for fold-1: 0.0167597765363\n",
      "Test error-rate for fold-2: 0.0335195530726\n",
      "Test error-rate for fold-3: 0.0446927374302\n",
      "Test error-rate for fold-4: 0.0614525139665\n",
      "Test error-rate for fold-5: 0.0502793296089\n",
      "Test error-rate for fold-6: 0.0614525139665\n",
      "Test error-rate for fold-7: 0.0391061452514\n",
      "Test error-rate for fold-8: 0.0335195530726\n",
      "Test error-rate for fold-9: 0.0223463687151\n",
      "Test error-rate for fold-10: 0.0782122905028\n",
      "Test error-rate for fold-11: 0.0\n",
      "\n",
      "Mean test-error 4.01 percent\n",
      "Std test-error 0.02 percent\n"
     ]
    }
   ],
   "source": [
    "LDA2dGaussGM('digits.csv', 10)"
   ]
  },
  {
   "cell_type": "code",
   "execution_count": null,
   "metadata": {
    "collapsed": true
   },
   "outputs": [],
   "source": []
  },
  {
   "cell_type": "code",
   "execution_count": null,
   "metadata": {
    "collapsed": true
   },
   "outputs": [],
   "source": []
  }
 ],
 "metadata": {
  "kernelspec": {
   "display_name": "Python 3",
   "language": "python",
   "name": "python3"
  },
  "language_info": {
   "codemirror_mode": {
    "name": "ipython",
    "version": 3
   },
   "file_extension": ".py",
   "mimetype": "text/x-python",
   "name": "python",
   "nbconvert_exporter": "python",
   "pygments_lexer": "ipython3",
   "version": "3.6.1"
  }
 },
 "nbformat": 4,
 "nbformat_minor": 2
}
